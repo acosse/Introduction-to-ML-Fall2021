{
 "cells": [
  {
   "cell_type": "markdown",
   "metadata": {},
   "source": [
    "<h2><center>Week 7: Learning (Part II, Intro to Neural Nets)</center></h2>\n",
    "\n",
    "<h3><center>CSCI-UA 9473 - Introduction to Machine Learning</center></h3>\n",
    "\n",
    "<font color='green'><h2>Partial Solutions</h2> </font>"
   ]
  },
  {
   "cell_type": "markdown",
   "metadata": {},
   "source": [
    "### Part 1. A simple linearly separable dataset (gradient) "
   ]
  },
  {
   "cell_type": "code",
   "execution_count": 4,
   "metadata": {},
   "outputs": [],
   "source": [
    "# a simple neural network which takes as input a 1D latent variable\n",
    "\n",
    "import numpy as np\n",
    "import copy\n",
    "import matplotlib.pyplot as plt\n",
    "\n",
    "\n",
    "input_dim  = 2\n",
    "output_dim = 1\n",
    "# number of neurons per layer\n",
    "network_size = [1]\n",
    "total_size = copy.deepcopy(network_size)\n",
    "total_size.append(output_dim)\n",
    "num_layers = len(network_size)\n"
   ]
  },
  {
   "cell_type": "code",
   "execution_count": 8,
   "metadata": {},
   "outputs": [],
   "source": [
    "# defining the activation function\n",
    "def activation1(x):\n",
    "    \n",
    "    sigma = 1/(1+np.exp(-x))\n",
    "    \n",
    "    derivative = sigma*(1-sigma)\n",
    "    \n",
    "    return sigma, derivative"
   ]
  },
  {
   "cell_type": "code",
   "execution_count": 13,
   "metadata": {},
   "outputs": [],
   "source": [
    "# forward and backward propagation\n",
    "\n",
    "x_in = np.random.normal(0,1,(input_dim,1))\n",
    "\n",
    "def SGD_neuralNet(x_in, target, weights, biases): \n",
    "    \n",
    "    # forward propagation\n",
    "    current_input = x_in\n",
    "\n",
    "    # adding the bias term\n",
    "\n",
    "    preactivation = []\n",
    "    postactivation = []\n",
    "    \n",
    "    for l in np.arange(len(weights)):\n",
    "\n",
    "        output_s = np.shape(weights[l])[1]\n",
    "        \n",
    "        tmp = np.matmul(weights[l],current_input).reshape(-1,1) \\\n",
    "        + biases[l].reshape(-1,1)\n",
    "        \n",
    "        tmp2 = activation1(tmp)[0]\n",
    "        preactivation.append(tmp)\n",
    "        postactivation.append(tmp2)\n",
    "        current_output = tmp2\n",
    "        current_input = current_output\n",
    "        \n",
    "    \n",
    "    ### backpropagation \n",
    "\n",
    "    loss = -target*np.log(current_output) -(1-target)*np.log(1-current_output)\n",
    "    delta_out = current_output - target\n",
    "    current_delta = delta_out\n",
    "\n",
    "    weight_backp = weights[::-1]\n",
    "    preactivation_backp = preactivation[:-1][::-1]\n",
    "    postactivation_backp = postactivation[:-1][::-1]\n",
    "\n",
    "    grad = []\n",
    "    grad_biases = []\n",
    "    \n",
    "    grad.append(np.squeeze(delta_out)*np.squeeze(postactivation_backp[0]))\n",
    "    grad_biases.append(delta_out)\n",
    "    \n",
    "    \n",
    "    postactivation_backp.append(x_in)\n",
    "\n",
    "    for l in np.arange(len(weights)-1):\n",
    "\n",
    "        tmp = np.matmul(weight_backp[l].T, current_delta)\n",
    "        \n",
    "        sigmaPrime = np.squeeze(activation1(preactivation_backp[l])[1])\n",
    "        \n",
    "        current_delta = np.multiply(tmp.reshape(-1,1),sigmaPrime.reshape(-1,1))\n",
    "        \n",
    "        tmp1 = postactivation_backp[l+1].reshape(-1,1).T\n",
    "        tmp2 = np.matmul(np.squeeze(current_delta).reshape(-1,1), tmp1) \n",
    "        grad.append(np.squeeze(tmp2))\n",
    "        \n",
    "        grad_biases.append(np.squeeze(current_delta))\n",
    "    \n",
    "    grad = grad[::-1]\n",
    "    grad_biases = grad_biases[::-1]\n",
    "    \n",
    "    return loss, current_output, grad, grad_biases"
   ]
  },
  {
   "cell_type": "code",
   "execution_count": 15,
   "metadata": {},
   "outputs": [
    {
     "data": {
      "image/png": "[encoded data removed]",
      "text/plain": [
       "<Figure size 432x288 with 1 Axes>"
      ]
     },
     "metadata": {
      "needs_background": "light"
     },
     "output_type": "display_data"
    }
   ],
   "source": [
    "from sklearn.datasets import make_classification\n",
    "X1, Y1 = make_classification(n_features=2, n_redundant=0, n_informative=2,\n",
    "                             n_clusters_per_class=1, class_sep=2, random_state=1)\n",
    "plt.scatter(X1[:, 0], X1[:, 1], marker='o', c=Y1,\n",
    "            s=25, edgecolor='k')\n",
    "\n",
    "data = X1\n",
    "targets = Y1\n",
    "\n",
    "# applying the gradient step \n",
    "x_in = data[0,:]\n",
    "target = targets[0]\n",
    "weights = []\n",
    "biases = []\n",
    "\n",
    "current_is = input_dim\n",
    "current_os = network_size[0]\n",
    "weights.append(np.random.normal(0,1,(current_os, current_is)))\n",
    "biases.append(np.random.normal(0,1,(current_os,)))\n",
    "\n",
    "# random initialization of weights\n",
    "for l in np.arange(1,len(total_size)):\n",
    "    \n",
    "    current_is = current_os\n",
    "    current_os = total_size[l]\n",
    "    weights.append(np.random.normal(0,1,(current_os, current_is)))\n",
    "    biases.append(np.random.normal(0,1,(current_os, 1)))\n",
    "\n",
    "# learning rate\n",
    "# learning rate\n",
    "eta = .01\n",
    "\n",
    "num_epochs = 2000\n",
    "total_loss = np.zeros(num_epochs)\n",
    "\n",
    "for e in range(num_epochs):\n",
    "    \n",
    "    # random swapping \n",
    "    indices_epoch = np.arange(np.shape(data)[0])\n",
    "    np.random.shuffle(indices_epoch)\n",
    "    data_epoch = data[indices_epoch,:]\n",
    "    target_epoch = targets[indices_epoch]\n",
    "    \n",
    "    # SGD\n",
    "    \n",
    "    grad_weights_tmp = []\n",
    "    grad_biases_tmp = []\n",
    "    \n",
    "    for l in np.arange(len(weights)):\n",
    "        grad_weights_tmp.append(np.zeros(np.shape(weights[l])))\n",
    "        grad_biases_tmp.append(np.zeros(np.shape(biases[l])))\n",
    "    \n",
    "    for i in np.arange(len(target_epoch)):\n",
    "        \n",
    "        loss, f, g, b = SGD_neuralNet(data_epoch[i,:], target_epoch[i], weights, biases)\n",
    "        \n",
    "        total_loss[e] += loss \n",
    "        #one gradient step \n",
    "        \n",
    "        \n",
    "        for l in np.arange(len(weights)):\n",
    "                \n",
    "            grad_weights_tmp[l] = np.squeeze(grad_weights_tmp[l])+ np.squeeze(g[l])\n",
    "            grad_biases_tmp[l] = np.squeeze(grad_biases_tmp[l]) + np.squeeze(b[l])\n",
    "            \n",
    "            \n",
    "    for l in np.arange(len(weights)):\n",
    "            \n",
    "        weights[l] = weights[l] - (eta/len(target_epoch))*grad_weights_tmp[l] \n",
    "        biases[l] = biases[l].reshape(-1,1) - (eta/len(target_epoch))*grad_biases_tmp[l].reshape(-1,1)\n",
    "\n",
    "    \n",
    "    \n",
    "        \n",
    "        \n",
    "        \n",
    "        \n",
    "x1min = np.min(data[:,0])\n",
    "x1max = np.max(data[:,0])\n",
    "x2min = np.min(data[:,1]) \n",
    "x2max = np.max(data[:,1])\n",
    "\n",
    "xx1 = np.linspace(x1min, x1max, 100)\n",
    "xx2 = np.linspace(x2min, x2max, 100)\n",
    "xx1,xx2 = np.meshgrid(xx1, xx2)\n",
    "\n",
    "data_grid = np.vstack((xx1.flatten(), xx2.flatten())).T\n",
    "\n",
    "prediction = np.zeros((np.shape(data_grid)[0],1))\n",
    "\n",
    "for sample in np.arange(np.shape(data_grid)[0]):\n",
    "    \n",
    "    prediction[sample,:] =  SGD_neuralNet(data_grid[sample,:], 0, weights, biases)[0]\n",
    "    \n",
    "\n",
    "plt.scatter(data[:,0], data[:,1], c = targets)\n",
    "plt.contourf(xx1,xx2, np.reshape(prediction>0.5, np.shape(xx1)), levels=1, alpha = .1)\n",
    "plt.show()\n"
   ]
  },
  {
   "cell_type": "code",
   "execution_count": 16,
   "metadata": {},
   "outputs": [
    {
     "data": {
      "image/png": "[encoded data removed]",
      "text/plain": [
       "<Figure size 432x288 with 1 Axes>"
      ]
     },
     "metadata": {
      "needs_background": "light"
     },
     "output_type": "display_data"
    }
   ],
   "source": [
    "import matplotlib.pyplot as plt\n",
    "\n",
    "plt.semilogy(total_loss)\n",
    "plt.show()"
   ]
  },
  {
   "cell_type": "markdown",
   "metadata": {},
   "source": [
    "### Part 2. The XOR Gate (gradient)"
   ]
  },
  {
   "cell_type": "code",
   "execution_count": 17,
   "metadata": {},
   "outputs": [
    {
     "data": {
      "image/png": "[encoded data removed]",
      "text/plain": [
       "<Figure size 432x288 with 1 Axes>"
      ]
     },
     "metadata": {
      "needs_background": "light"
     },
     "output_type": "display_data"
    }
   ],
   "source": [
    "#\n",
    "\n",
    "from scipy.io import loadmat\n",
    "data1 = loadmat('neural_net_class1.mat')['neural_net_class1']\n",
    "data2 = loadmat('neural_net_class2.mat')['neural_net_class2']\n",
    "\n",
    "targets1 = np.ones((np.shape(data1)[0],1))\n",
    "targets0 = np.zeros((np.shape(data2)[0],1))\n",
    "\n",
    "targets = np.vstack((targets1, targets0))\n",
    "\n",
    "data = np.vstack((data1, data2))\n",
    "\n",
    "# applying the SGD step \n",
    "\n",
    "input_dim  = 2\n",
    "output_dim = 1\n",
    "# number of neurons per layer\n",
    "network_size = [20,20]\n",
    "total_size = copy.deepcopy(network_size)\n",
    "total_size.append(output_dim)\n",
    "num_layers = len(network_size)\n",
    "\n",
    "weights = []\n",
    "biases = []\n",
    "\n",
    "\n",
    "\n",
    "current_is = input_dim\n",
    "current_os = network_size[0]\n",
    "weights.append(np.random.normal(0,1,(current_os, current_is)))\n",
    "biases.append(np.random.normal(0,1,(current_os,)))\n",
    "\n",
    "# random initialization of weights\n",
    "for l in np.arange(1,len(total_size)):\n",
    "    \n",
    "    current_is = current_os\n",
    "    current_os = total_size[l]\n",
    "    weights.append(np.random.normal(0,1,(current_os, current_is)))\n",
    "    biases.append(np.random.normal(0,1,(current_os, 1)))\n",
    "\n",
    "# learning rate\n",
    "eta = .01\n",
    "\n",
    "num_epochs = 40000\n",
    "total_loss = np.zeros(num_epochs)\n",
    "\n",
    "for e in range(num_epochs):\n",
    "    \n",
    "    # random swapping \n",
    "    indices_epoch = np.arange(np.shape(data)[0])\n",
    "    np.random.shuffle(indices_epoch)\n",
    "    data_epoch = data[indices_epoch,:]\n",
    "    target_epoch = targets[indices_epoch]\n",
    "    \n",
    "    # SGD\n",
    "    \n",
    "    grad_weights_tmp = []\n",
    "    grad_biases_tmp = []\n",
    "    \n",
    "    for l in np.arange(len(weights)):\n",
    "        grad_weights_tmp.append(np.zeros(np.shape(weights[l])))\n",
    "        grad_biases_tmp.append(np.zeros(np.shape(biases[l])))\n",
    "    \n",
    "    for i in np.arange(len(target_epoch)):\n",
    "        \n",
    "        loss, f, g, b = SGD_neuralNet(data_epoch[i,:], target_epoch[i], weights, biases)\n",
    "        \n",
    "        total_loss[e] += loss \n",
    "        #one gradient step \n",
    "        \n",
    "        \n",
    "        for l in np.arange(len(weights)):\n",
    "                \n",
    "            grad_weights_tmp[l] = np.squeeze(grad_weights_tmp[l])+ np.squeeze(g[l])\n",
    "            grad_biases_tmp[l] = np.squeeze(grad_biases_tmp[l]) + np.squeeze(b[l])\n",
    "            \n",
    "            \n",
    "    for l in np.arange(len(weights)):\n",
    "            \n",
    "        weights[l] = weights[l] - (eta/len(target_epoch))*grad_weights_tmp[l] \n",
    "        biases[l] = biases[l].reshape(-1,1) - (eta/len(target_epoch))*grad_biases_tmp[l].reshape(-1,1)\n",
    "\n",
    "\n",
    "x1min = np.min(data[:,0])\n",
    "x1max = np.max(data[:,0])\n",
    "x2min = np.min(data[:,1]) \n",
    "x2max = np.max(data[:,1])\n",
    "\n",
    "from matplotlib.colors import ListedColormap\n",
    "cm_bright = ListedColormap(['#0000FF', '#FF0000'])\n",
    "\n",
    "xx1 = np.linspace(x1min, x1max, 100)\n",
    "xx2 = np.linspace(x2min, x2max, 100)\n",
    "xx1,xx2 = np.meshgrid(xx1, xx2)\n",
    "\n",
    "data_grid = np.vstack((xx1.flatten(), xx2.flatten())).T\n",
    "\n",
    "prediction = np.zeros((np.shape(data_grid)[0],1))\n",
    "\n",
    "for sample in np.arange(np.shape(data_grid)[0]):\n",
    "    \n",
    "    prediction[sample,:] =  SGD_neuralNet(data_grid[sample,:], 0, weights, biases)[0]\n",
    "    \n",
    "    \n",
    "plt.scatter(data1[:,0], data1[:,1], c='r')\n",
    "plt.scatter(data2[:,0], data2[:,1], c='b')\n",
    "plt.contourf(xx1,xx2, np.reshape(prediction>0.5, np.shape(xx1)), levels = 2,alpha=0.2, cmap=cm_bright)\n",
    "plt.show()"
   ]
  },
  {
   "cell_type": "code",
   "execution_count": 18,
   "metadata": {},
   "outputs": [
    {
     "data": {
      "image/png": "[encoded data removed]",
      "text/plain": [
       "<Figure size 432x288 with 1 Axes>"
      ]
     },
     "metadata": {
      "needs_background": "light"
     },
     "output_type": "display_data"
    }
   ],
   "source": [
    "plt.semilogy(total_loss)\n",
    "plt.show()"
   ]
  }
 ],
 "metadata": {
  "kernelspec": {
   "display_name": "Python 3",
   "language": "python",
   "name": "python3"
  },
  "language_info": {
   "codemirror_mode": {
    "name": "ipython",
    "version": 3
   },
   "file_extension": ".py",
   "mimetype": "text/x-python",
   "name": "python",
   "nbconvert_exporter": "python",
   "pygments_lexer": "ipython3",
   "version": "3.8.5"
  }
 },
 "nbformat": 4,
 "nbformat_minor": 4
}
